{
 "cells": [
  {
   "cell_type": "markdown",
   "metadata": {
    "id": "UysiGN3tGQHY"
   },
   "source": [
    "# Running TFLite models"
   ]
  },
  {
   "cell_type": "markdown",
   "metadata": {
    "id": "W-VhTkyTGcaQ"
   },
   "source": [
    "## Setup"
   ]
  },
  {
   "cell_type": "code",
   "execution_count": 1,
   "metadata": {
    "id": "dy4BcTjBFTWx"
   },
   "outputs": [
    {
     "name": "stdout",
     "output_type": "stream",
     "text": [
      "INFO:tensorflow:Enabling eager execution\n",
      "INFO:tensorflow:Enabling v2 tensorshape\n",
      "INFO:tensorflow:Enabling resource variables\n",
      "INFO:tensorflow:Enabling tensor equality\n",
      "INFO:tensorflow:Enabling control flow v2\n"
     ]
    }
   ],
   "source": [
    "import tensorflow as tf\n",
    "\n",
    "import pathlib\n",
    "import numpy as np\n",
    "import matplotlib.pyplot as plt\n",
    "\n",
    "from tensorflow.keras.models import Model\n",
    "from tensorflow.keras.layers import Input"
   ]
  },
  {
   "cell_type": "markdown",
   "metadata": {
    "id": "ceibQLDeGhI4"
   },
   "source": [
    "## Create a basic model of the form y = mx + c"
   ]
  },
  {
   "cell_type": "code",
   "execution_count": 2,
   "metadata": {
    "id": "YIBCsjQNF46Z"
   },
   "outputs": [
    {
     "name": "stdout",
     "output_type": "stream",
     "text": [
      "Epoch 1/200\n",
      "1/1 [==============================] - 0s 174ms/step - loss: 11.2227\n",
      "Epoch 2/200\n",
      "1/1 [==============================] - 0s 3ms/step - loss: 9.0479\n",
      "Epoch 3/200\n",
      "1/1 [==============================] - 0s 6ms/step - loss: 7.3323\n",
      "Epoch 4/200\n",
      "1/1 [==============================] - 0s 3ms/step - loss: 5.9782\n",
      "Epoch 5/200\n",
      "1/1 [==============================] - 0s 3ms/step - loss: 4.9086\n",
      "Epoch 6/200\n",
      "1/1 [==============================] - 0s 3ms/step - loss: 4.0628\n",
      "Epoch 7/200\n",
      "1/1 [==============================] - 0s 7ms/step - loss: 3.3933\n",
      "Epoch 8/200\n",
      "1/1 [==============================] - 0s 3ms/step - loss: 2.8625\n",
      "Epoch 9/200\n",
      "1/1 [==============================] - 0s 3ms/step - loss: 2.4410\n",
      "Epoch 10/200\n",
      "1/1 [==============================] - 0s 3ms/step - loss: 2.1054\n",
      "Epoch 11/200\n",
      "1/1 [==============================] - 0s 3ms/step - loss: 1.8376\n",
      "Epoch 12/200\n",
      "1/1 [==============================] - 0s 3ms/step - loss: 1.6232\n",
      "Epoch 13/200\n",
      "1/1 [==============================] - 0s 3ms/step - loss: 1.4509\n",
      "Epoch 14/200\n",
      "1/1 [==============================] - 0s 3ms/step - loss: 1.3117\n",
      "Epoch 15/200\n",
      "1/1 [==============================] - 0s 4ms/step - loss: 1.1988\n",
      "Epoch 16/200\n",
      "1/1 [==============================] - 0s 3ms/step - loss: 1.1064\n",
      "Epoch 17/200\n",
      "1/1 [==============================] - 0s 3ms/step - loss: 1.0305\n",
      "Epoch 18/200\n",
      "1/1 [==============================] - 0s 3ms/step - loss: 0.9674\n",
      "Epoch 19/200\n",
      "1/1 [==============================] - 0s 4ms/step - loss: 0.9146\n",
      "Epoch 20/200\n",
      "1/1 [==============================] - 0s 4ms/step - loss: 0.8699\n",
      "Epoch 21/200\n",
      "1/1 [==============================] - 0s 3ms/step - loss: 0.8316\n",
      "Epoch 22/200\n",
      "1/1 [==============================] - 0s 3ms/step - loss: 0.7985\n",
      "Epoch 23/200\n",
      "1/1 [==============================] - 0s 9ms/step - loss: 0.7694\n",
      "Epoch 24/200\n",
      "1/1 [==============================] - 0s 3ms/step - loss: 0.7437\n",
      "Epoch 25/200\n",
      "1/1 [==============================] - 0s 4ms/step - loss: 0.7206\n",
      "Epoch 26/200\n",
      "1/1 [==============================] - 0s 4ms/step - loss: 0.6996\n",
      "Epoch 27/200\n",
      "1/1 [==============================] - 0s 4ms/step - loss: 0.6804\n",
      "Epoch 28/200\n",
      "1/1 [==============================] - 0s 4ms/step - loss: 0.6626\n",
      "Epoch 29/200\n",
      "1/1 [==============================] - 0s 4ms/step - loss: 0.6460\n",
      "Epoch 30/200\n",
      "1/1 [==============================] - 0s 3ms/step - loss: 0.6304\n",
      "Epoch 31/200\n",
      "1/1 [==============================] - 0s 6ms/step - loss: 0.6156\n",
      "Epoch 32/200\n",
      "1/1 [==============================] - 0s 3ms/step - loss: 0.6015\n",
      "Epoch 33/200\n",
      "1/1 [==============================] - 0s 4ms/step - loss: 0.5880\n",
      "Epoch 34/200\n",
      "1/1 [==============================] - 0s 4ms/step - loss: 0.5750\n",
      "Epoch 35/200\n",
      "1/1 [==============================] - 0s 5ms/step - loss: 0.5625\n",
      "Epoch 36/200\n",
      "1/1 [==============================] - 0s 3ms/step - loss: 0.5504\n",
      "Epoch 37/200\n",
      "1/1 [==============================] - 0s 3ms/step - loss: 0.5386\n",
      "Epoch 38/200\n",
      "1/1 [==============================] - 0s 4ms/step - loss: 0.5272\n",
      "Epoch 39/200\n",
      "1/1 [==============================] - 0s 3ms/step - loss: 0.5161\n",
      "Epoch 40/200\n",
      "1/1 [==============================] - 0s 3ms/step - loss: 0.5053\n",
      "Epoch 41/200\n",
      "1/1 [==============================] - 0s 5ms/step - loss: 0.4948\n",
      "Epoch 42/200\n",
      "1/1 [==============================] - 0s 3ms/step - loss: 0.4845\n",
      "Epoch 43/200\n",
      "1/1 [==============================] - 0s 3ms/step - loss: 0.4744\n",
      "Epoch 44/200\n",
      "1/1 [==============================] - 0s 5ms/step - loss: 0.4646\n",
      "Epoch 45/200\n",
      "1/1 [==============================] - 0s 3ms/step - loss: 0.4550\n",
      "Epoch 46/200\n",
      "1/1 [==============================] - 0s 3ms/step - loss: 0.4456\n",
      "Epoch 47/200\n",
      "1/1 [==============================] - 0s 2ms/step - loss: 0.4364\n",
      "Epoch 48/200\n",
      "1/1 [==============================] - 0s 3ms/step - loss: 0.4274\n",
      "Epoch 49/200\n",
      "1/1 [==============================] - 0s 4ms/step - loss: 0.4186\n",
      "Epoch 50/200\n",
      "1/1 [==============================] - 0s 3ms/step - loss: 0.4100\n",
      "Epoch 51/200\n",
      "1/1 [==============================] - 0s 3ms/step - loss: 0.4015\n",
      "Epoch 52/200\n",
      "1/1 [==============================] - 0s 3ms/step - loss: 0.3933\n",
      "Epoch 53/200\n",
      "1/1 [==============================] - 0s 3ms/step - loss: 0.3852\n",
      "Epoch 54/200\n",
      "1/1 [==============================] - 0s 3ms/step - loss: 0.3773\n",
      "Epoch 55/200\n",
      "1/1 [==============================] - 0s 3ms/step - loss: 0.3695\n",
      "Epoch 56/200\n",
      "1/1 [==============================] - 0s 5ms/step - loss: 0.3619\n",
      "Epoch 57/200\n",
      "1/1 [==============================] - 0s 3ms/step - loss: 0.3545\n",
      "Epoch 58/200\n",
      "1/1 [==============================] - 0s 3ms/step - loss: 0.3472\n",
      "Epoch 59/200\n",
      "1/1 [==============================] - 0s 3ms/step - loss: 0.3401\n",
      "Epoch 60/200\n",
      "1/1 [==============================] - 0s 9ms/step - loss: 0.3331\n",
      "Epoch 61/200\n",
      "1/1 [==============================] - 0s 3ms/step - loss: 0.3262\n",
      "Epoch 62/200\n",
      "1/1 [==============================] - 0s 3ms/step - loss: 0.3195\n",
      "Epoch 63/200\n",
      "1/1 [==============================] - 0s 4ms/step - loss: 0.3130\n",
      "Epoch 64/200\n",
      "1/1 [==============================] - 0s 4ms/step - loss: 0.3065\n",
      "Epoch 65/200\n",
      "1/1 [==============================] - 0s 9ms/step - loss: 0.3002\n",
      "Epoch 66/200\n",
      "1/1 [==============================] - 0s 4ms/step - loss: 0.2941\n",
      "Epoch 67/200\n",
      "1/1 [==============================] - 0s 3ms/step - loss: 0.2880\n",
      "Epoch 68/200\n",
      "1/1 [==============================] - 0s 3ms/step - loss: 0.2821\n",
      "Epoch 69/200\n",
      "1/1 [==============================] - 0s 6ms/step - loss: 0.2763\n",
      "Epoch 70/200\n",
      "1/1 [==============================] - 0s 7ms/step - loss: 0.2706\n",
      "Epoch 71/200\n",
      "1/1 [==============================] - 0s 3ms/step - loss: 0.2651\n",
      "Epoch 72/200\n",
      "1/1 [==============================] - 0s 3ms/step - loss: 0.2596\n",
      "Epoch 73/200\n",
      "1/1 [==============================] - 0s 3ms/step - loss: 0.2543\n",
      "Epoch 74/200\n",
      "1/1 [==============================] - 0s 3ms/step - loss: 0.2491\n",
      "Epoch 75/200\n",
      "1/1 [==============================] - 0s 5ms/step - loss: 0.2440\n",
      "Epoch 76/200\n",
      "1/1 [==============================] - 0s 5ms/step - loss: 0.2390\n",
      "Epoch 77/200\n",
      "1/1 [==============================] - 0s 3ms/step - loss: 0.2341\n",
      "Epoch 78/200\n",
      "1/1 [==============================] - 0s 10ms/step - loss: 0.2292\n",
      "Epoch 79/200\n",
      "1/1 [==============================] - 0s 7ms/step - loss: 0.2245\n",
      "Epoch 80/200\n",
      "1/1 [==============================] - 0s 3ms/step - loss: 0.2199\n",
      "Epoch 81/200\n",
      "1/1 [==============================] - 0s 3ms/step - loss: 0.2154\n",
      "Epoch 82/200\n",
      "1/1 [==============================] - 0s 5ms/step - loss: 0.2110\n",
      "Epoch 83/200\n",
      "1/1 [==============================] - 0s 3ms/step - loss: 0.2066\n",
      "Epoch 84/200\n",
      "1/1 [==============================] - 0s 8ms/step - loss: 0.2024\n",
      "Epoch 85/200\n",
      "1/1 [==============================] - 0s 3ms/step - loss: 0.1982\n",
      "Epoch 86/200\n",
      "1/1 [==============================] - 0s 3ms/step - loss: 0.1942\n",
      "Epoch 87/200\n",
      "1/1 [==============================] - 0s 5ms/step - loss: 0.1902\n",
      "Epoch 88/200\n",
      "1/1 [==============================] - 0s 3ms/step - loss: 0.1863\n",
      "Epoch 89/200\n",
      "1/1 [==============================] - 0s 4ms/step - loss: 0.1825\n",
      "Epoch 90/200\n",
      "1/1 [==============================] - 0s 3ms/step - loss: 0.1787\n",
      "Epoch 91/200\n",
      "1/1 [==============================] - 0s 3ms/step - loss: 0.1750\n",
      "Epoch 92/200\n",
      "1/1 [==============================] - 0s 8ms/step - loss: 0.1714\n",
      "Epoch 93/200\n",
      "1/1 [==============================] - 0s 6ms/step - loss: 0.1679\n",
      "Epoch 94/200\n",
      "1/1 [==============================] - 0s 4ms/step - loss: 0.1645\n",
      "Epoch 95/200\n",
      "1/1 [==============================] - 0s 3ms/step - loss: 0.1611\n",
      "Epoch 96/200\n",
      "1/1 [==============================] - 0s 4ms/step - loss: 0.1578\n",
      "Epoch 97/200\n",
      "1/1 [==============================] - 0s 4ms/step - loss: 0.1545\n",
      "Epoch 98/200\n",
      "1/1 [==============================] - 0s 4ms/step - loss: 0.1514\n",
      "Epoch 99/200\n",
      "1/1 [==============================] - 0s 3ms/step - loss: 0.1483\n",
      "Epoch 100/200\n",
      "1/1 [==============================] - 0s 10ms/step - loss: 0.1452\n",
      "Epoch 101/200\n",
      "1/1 [==============================] - 0s 3ms/step - loss: 0.1422\n",
      "Epoch 102/200\n",
      "1/1 [==============================] - 0s 3ms/step - loss: 0.1393\n",
      "Epoch 103/200\n",
      "1/1 [==============================] - 0s 10ms/step - loss: 0.1364\n",
      "Epoch 104/200\n",
      "1/1 [==============================] - 0s 3ms/step - loss: 0.1336\n",
      "Epoch 105/200\n",
      "1/1 [==============================] - 0s 3ms/step - loss: 0.1309\n",
      "Epoch 106/200\n",
      "1/1 [==============================] - 0s 8ms/step - loss: 0.1282\n",
      "Epoch 107/200\n",
      "1/1 [==============================] - 0s 3ms/step - loss: 0.1256\n",
      "Epoch 108/200\n",
      "1/1 [==============================] - 0s 3ms/step - loss: 0.1230\n",
      "Epoch 109/200\n",
      "1/1 [==============================] - 0s 7ms/step - loss: 0.1205\n",
      "Epoch 110/200\n",
      "1/1 [==============================] - 0s 5ms/step - loss: 0.1180\n",
      "Epoch 111/200\n",
      "1/1 [==============================] - 0s 3ms/step - loss: 0.1156\n",
      "Epoch 112/200\n",
      "1/1 [==============================] - 0s 3ms/step - loss: 0.1132\n",
      "Epoch 113/200\n",
      "1/1 [==============================] - 0s 3ms/step - loss: 0.1109\n",
      "Epoch 114/200\n",
      "1/1 [==============================] - 0s 3ms/step - loss: 0.1086\n",
      "Epoch 115/200\n",
      "1/1 [==============================] - 0s 3ms/step - loss: 0.1064\n",
      "Epoch 116/200\n",
      "1/1 [==============================] - 0s 3ms/step - loss: 0.1042\n",
      "Epoch 117/200\n",
      "1/1 [==============================] - 0s 7ms/step - loss: 0.1020\n",
      "Epoch 118/200\n",
      "1/1 [==============================] - 0s 3ms/step - loss: 0.0999\n",
      "Epoch 119/200\n",
      "1/1 [==============================] - 0s 9ms/step - loss: 0.0979\n",
      "Epoch 120/200\n",
      "1/1 [==============================] - 0s 8ms/step - loss: 0.0959\n",
      "Epoch 121/200\n",
      "1/1 [==============================] - 0s 3ms/step - loss: 0.0939\n",
      "Epoch 122/200\n",
      "1/1 [==============================] - 0s 5ms/step - loss: 0.0920\n",
      "Epoch 123/200\n",
      "1/1 [==============================] - 0s 3ms/step - loss: 0.0901\n",
      "Epoch 124/200\n",
      "1/1 [==============================] - 0s 10ms/step - loss: 0.0882\n",
      "Epoch 125/200\n",
      "1/1 [==============================] - 0s 4ms/step - loss: 0.0864\n",
      "Epoch 126/200\n",
      "1/1 [==============================] - 0s 9ms/step - loss: 0.0847\n",
      "Epoch 127/200\n",
      "1/1 [==============================] - 0s 3ms/step - loss: 0.0829\n",
      "Epoch 128/200\n",
      "1/1 [==============================] - 0s 6ms/step - loss: 0.0812\n",
      "Epoch 129/200\n",
      "1/1 [==============================] - 0s 15ms/step - loss: 0.0795\n",
      "Epoch 130/200\n",
      "1/1 [==============================] - 0s 3ms/step - loss: 0.0779\n",
      "Epoch 131/200\n",
      "1/1 [==============================] - 0s 3ms/step - loss: 0.0763\n",
      "Epoch 132/200\n",
      "1/1 [==============================] - 0s 3ms/step - loss: 0.0747\n",
      "Epoch 133/200\n",
      "1/1 [==============================] - 0s 11ms/step - loss: 0.0732\n",
      "Epoch 134/200\n",
      "1/1 [==============================] - 0s 5ms/step - loss: 0.0717\n",
      "Epoch 135/200\n",
      "1/1 [==============================] - 0s 4ms/step - loss: 0.0702\n",
      "Epoch 136/200\n",
      "1/1 [==============================] - 0s 5ms/step - loss: 0.0688\n",
      "Epoch 137/200\n",
      "1/1 [==============================] - 0s 3ms/step - loss: 0.0674\n",
      "Epoch 138/200\n",
      "1/1 [==============================] - 0s 5ms/step - loss: 0.0660\n",
      "Epoch 139/200\n",
      "1/1 [==============================] - 0s 3ms/step - loss: 0.0646\n",
      "Epoch 140/200\n",
      "1/1 [==============================] - 0s 3ms/step - loss: 0.0633\n",
      "Epoch 141/200\n",
      "1/1 [==============================] - 0s 4ms/step - loss: 0.0620\n",
      "Epoch 142/200\n",
      "1/1 [==============================] - 0s 3ms/step - loss: 0.0607\n",
      "Epoch 143/200\n",
      "1/1 [==============================] - 0s 5ms/step - loss: 0.0595\n",
      "Epoch 144/200\n",
      "1/1 [==============================] - 0s 3ms/step - loss: 0.0583\n",
      "Epoch 145/200\n",
      "1/1 [==============================] - 0s 3ms/step - loss: 0.0571\n",
      "Epoch 146/200\n",
      "1/1 [==============================] - 0s 8ms/step - loss: 0.0559\n",
      "Epoch 147/200\n",
      "1/1 [==============================] - 0s 3ms/step - loss: 0.0547\n",
      "Epoch 148/200\n",
      "1/1 [==============================] - 0s 3ms/step - loss: 0.0536\n",
      "Epoch 149/200\n",
      "1/1 [==============================] - 0s 3ms/step - loss: 0.0525\n",
      "Epoch 150/200\n",
      "1/1 [==============================] - 0s 9ms/step - loss: 0.0514\n",
      "Epoch 151/200\n",
      "1/1 [==============================] - 0s 3ms/step - loss: 0.0504\n",
      "Epoch 152/200\n",
      "1/1 [==============================] - 0s 3ms/step - loss: 0.0494\n",
      "Epoch 153/200\n",
      "1/1 [==============================] - 0s 4ms/step - loss: 0.0483\n",
      "Epoch 154/200\n",
      "1/1 [==============================] - 0s 3ms/step - loss: 0.0473\n",
      "Epoch 155/200\n",
      "1/1 [==============================] - 0s 3ms/step - loss: 0.0464\n",
      "Epoch 156/200\n",
      "1/1 [==============================] - 0s 10ms/step - loss: 0.0454\n",
      "Epoch 157/200\n",
      "1/1 [==============================] - 0s 3ms/step - loss: 0.0445\n",
      "Epoch 158/200\n",
      "1/1 [==============================] - 0s 3ms/step - loss: 0.0436\n",
      "Epoch 159/200\n",
      "1/1 [==============================] - 0s 7ms/step - loss: 0.0427\n",
      "Epoch 160/200\n",
      "1/1 [==============================] - 0s 11ms/step - loss: 0.0418\n",
      "Epoch 161/200\n",
      "1/1 [==============================] - 0s 8ms/step - loss: 0.0409\n",
      "Epoch 162/200\n",
      "1/1 [==============================] - 0s 20ms/step - loss: 0.0401\n",
      "Epoch 163/200\n",
      "1/1 [==============================] - 0s 9ms/step - loss: 0.0393\n",
      "Epoch 164/200\n",
      "1/1 [==============================] - 0s 5ms/step - loss: 0.0385\n",
      "Epoch 165/200\n",
      "1/1 [==============================] - 0s 3ms/step - loss: 0.0377\n",
      "Epoch 166/200\n",
      "1/1 [==============================] - 0s 4ms/step - loss: 0.0369\n",
      "Epoch 167/200\n",
      "1/1 [==============================] - 0s 4ms/step - loss: 0.0361\n",
      "Epoch 168/200\n",
      "1/1 [==============================] - 0s 7ms/step - loss: 0.0354\n",
      "Epoch 169/200\n",
      "1/1 [==============================] - 0s 3ms/step - loss: 0.0347\n",
      "Epoch 170/200\n",
      "1/1 [==============================] - 0s 4ms/step - loss: 0.0340\n",
      "Epoch 171/200\n",
      "1/1 [==============================] - 0s 7ms/step - loss: 0.0333\n",
      "Epoch 172/200\n",
      "1/1 [==============================] - 0s 8ms/step - loss: 0.0326\n",
      "Epoch 173/200\n",
      "1/1 [==============================] - 0s 6ms/step - loss: 0.0319\n",
      "Epoch 174/200\n",
      "1/1 [==============================] - 0s 3ms/step - loss: 0.0313\n",
      "Epoch 175/200\n",
      "1/1 [==============================] - 0s 4ms/step - loss: 0.0306\n",
      "Epoch 176/200\n",
      "1/1 [==============================] - 0s 9ms/step - loss: 0.0300\n",
      "Epoch 177/200\n",
      "1/1 [==============================] - 0s 3ms/step - loss: 0.0294\n",
      "Epoch 178/200\n",
      "1/1 [==============================] - 0s 5ms/step - loss: 0.0288\n",
      "Epoch 179/200\n",
      "1/1 [==============================] - 0s 3ms/step - loss: 0.0282\n",
      "Epoch 180/200\n",
      "1/1 [==============================] - 0s 7ms/step - loss: 0.0276\n",
      "Epoch 181/200\n",
      "1/1 [==============================] - 0s 3ms/step - loss: 0.0270\n",
      "Epoch 182/200\n",
      "1/1 [==============================] - 0s 8ms/step - loss: 0.0265\n",
      "Epoch 183/200\n",
      "1/1 [==============================] - 0s 3ms/step - loss: 0.0259\n",
      "Epoch 184/200\n",
      "1/1 [==============================] - 0s 10ms/step - loss: 0.0254\n",
      "Epoch 185/200\n",
      "1/1 [==============================] - 0s 2ms/step - loss: 0.0249\n",
      "Epoch 186/200\n",
      "1/1 [==============================] - 0s 4ms/step - loss: 0.0244\n",
      "Epoch 187/200\n",
      "1/1 [==============================] - 0s 4ms/step - loss: 0.0239\n",
      "Epoch 188/200\n",
      "1/1 [==============================] - 0s 5ms/step - loss: 0.0234\n",
      "Epoch 189/200\n",
      "1/1 [==============================] - 0s 5ms/step - loss: 0.0229\n",
      "Epoch 190/200\n",
      "1/1 [==============================] - 0s 4ms/step - loss: 0.0224\n",
      "Epoch 191/200\n",
      "1/1 [==============================] - 0s 3ms/step - loss: 0.0220\n",
      "Epoch 192/200\n",
      "1/1 [==============================] - 0s 4ms/step - loss: 0.0215\n",
      "Epoch 193/200\n",
      "1/1 [==============================] - 0s 4ms/step - loss: 0.0211\n",
      "Epoch 194/200\n",
      "1/1 [==============================] - 0s 5ms/step - loss: 0.0206\n",
      "Epoch 195/200\n",
      "1/1 [==============================] - 0s 4ms/step - loss: 0.0202\n",
      "Epoch 196/200\n",
      "1/1 [==============================] - 0s 6ms/step - loss: 0.0198\n",
      "Epoch 197/200\n",
      "1/1 [==============================] - 0s 3ms/step - loss: 0.0194\n",
      "Epoch 198/200\n",
      "1/1 [==============================] - 0s 10ms/step - loss: 0.0190\n",
      "Epoch 199/200\n",
      "1/1 [==============================] - 0s 3ms/step - loss: 0.0186\n",
      "Epoch 200/200\n",
      "1/1 [==============================] - 0s 6ms/step - loss: 0.0182\n"
     ]
    },
    {
     "data": {
      "text/plain": [
       "<tensorflow.python.keras.callbacks.History at 0x7fe1a0d06a90>"
      ]
     },
     "execution_count": 2,
     "metadata": {},
     "output_type": "execute_result"
    }
   ],
   "source": [
    "# Create a simple Keras model.\n",
    "x = [-1, 0, 1, 2, 3, 4]\n",
    "y = [-3, -1, 1, 3, 5, 7]\n",
    "\n",
    "model = tf.keras.models.Sequential([\n",
    "    tf.keras.layers.Dense(units=1, input_shape=[1])\n",
    "])\n",
    "model.compile(optimizer='sgd', loss='mean_squared_error')\n",
    "model.fit(x, y, epochs=200, verbose=1)"
   ]
  },
  {
   "cell_type": "markdown",
   "metadata": {
    "id": "EjsB-QICGt6L"
   },
   "source": [
    "## Generate a SavedModel"
   ]
  },
  {
   "cell_type": "code",
   "execution_count": 3,
   "metadata": {
    "id": "a9xcbK7QHOfm"
   },
   "outputs": [
    {
     "name": "stdout",
     "output_type": "stream",
     "text": [
      "WARNING:tensorflow:FOR KERAS USERS: The object that you are saving contains one or more Keras models or layers. If you are loading the SavedModel with `tf.keras.models.load_model`, continue reading (otherwise, you may ignore the following instructions). Please change your code to save with `tf.keras.models.save_model` or `model.save`, and confirm that the file \"keras.metadata\" exists in the export directory. In the future, Keras will only load the SavedModels that have this file. In other words, `tf.saved_model.save` will no longer write SavedModels that can be recovered as Keras models (this will apply in TF 2.5).\n",
      "\n",
      "FOR DEVS: If you are overwriting _tracking_metadata in your class, this property has been used to save metadata in the SavedModel. The metadta field will be deprecated soon, so please move the metadata to a different file.\n",
      "INFO:tensorflow:Assets written to: saved_model/2/assets\n"
     ]
    }
   ],
   "source": [
    "export_dir = 'saved_model/2'\n",
    "tf.saved_model.save(model, export_dir)"
   ]
  },
  {
   "cell_type": "markdown",
   "metadata": {
    "id": "RRtsNwkiGxcO"
   },
   "source": [
    "## Convert the SavedModel to TFLite"
   ]
  },
  {
   "cell_type": "markdown",
   "metadata": {},
   "source": [
    "This model pretends to make the tflite model friendly for TPU/NPU execution. This kind of hardware works with 8-bits, so it is needed to quantize the model to use (u)int8 instead of Float32 data types.\n",
    "\n",
    "This is not the best example for this, and it will be explained later.\n",
    "\n",
    "To quantize the model, a representative dataset generation is needed. In this case, the model will be feeded with the input data that we want to introduce (values from -1.0 to 4.0), decimal numbers after all."
   ]
  },
  {
   "cell_type": "code",
   "execution_count": 18,
   "metadata": {},
   "outputs": [],
   "source": [
    "def representative_dataset_gen():\n",
    "    raw_test_data = []\n",
    "    i=np.float32(-1.0)\n",
    "    while i < 4.0:\n",
    "        i+=0.01\n",
    "        #yield [i.astype(np.float32)]\n",
    "        raw_test_data.append(i)\n",
    "\n",
    "    for data in raw_test_data:\n",
    "        yield [data.astype(np.float32)]"
   ]
  },
  {
   "cell_type": "markdown",
   "metadata": {},
   "source": [
    "This code is exactly as the other notebook, but has an aditional line: _converter.target_spec.supported_ops = [tf.lite.OpsSet.TFLITE_BUILTINS_INT8]_\n",
    "\n",
    "This means the model will be fully quantized, while the input and output of the model will still be Float32. This line requires a function called _representative_dataset_gen()_."
   ]
  },
  {
   "cell_type": "code",
   "execution_count": 19,
   "metadata": {
    "id": "TtM8yKTVTpD3"
   },
   "outputs": [],
   "source": [
    "# Convert the model.\n",
    "converter = tf.lite.TFLiteConverter.from_saved_model(export_dir)\n",
    "converter.optimizations = [tf.lite.Optimize.DEFAULT]\n",
    "converter.target_spec.supported_ops = [tf.lite.OpsSet.TFLITE_BUILTINS_INT8]\n",
    "converter.representative_dataset = representative_dataset_gen\n",
    "tflite_model = converter.convert()"
   ]
  },
  {
   "cell_type": "markdown",
   "metadata": {},
   "source": [
    "We want a different output, so the name of the model has been changed."
   ]
  },
  {
   "cell_type": "code",
   "execution_count": 20,
   "metadata": {
    "id": "4idYulcNHTdO"
   },
   "outputs": [
    {
     "data": {
      "text/plain": [
       "1232"
      ]
     },
     "execution_count": 20,
     "metadata": {},
     "output_type": "execute_result"
    }
   ],
   "source": [
    "tflite_model_file = pathlib.Path('model_edge.tflite')\n",
    "tflite_model_file.write_bytes(tflite_model)"
   ]
  },
  {
   "cell_type": "markdown",
   "metadata": {
    "id": "HgGvp2yBG25Q"
   },
   "source": [
    "## Initialize the TFLite interpreter to try it out"
   ]
  },
  {
   "cell_type": "code",
   "execution_count": 21,
   "metadata": {
    "id": "DOt94wIWF8m7"
   },
   "outputs": [],
   "source": [
    "# Load TFLite model and allocate tensors.\n",
    "interpreter = tf.lite.Interpreter(model_content=tflite_model)\n",
    "interpreter.allocate_tensors()\n",
    "\n",
    "# Get input and output tensors.\n",
    "input_details = interpreter.get_input_details()\n",
    "output_details = interpreter.get_output_details()"
   ]
  },
  {
   "cell_type": "code",
   "execution_count": 22,
   "metadata": {
    "id": "JGYkEK08F8qK"
   },
   "outputs": [],
   "source": [
    "# Test the TensorFlow Lite model on random input data.\n",
    "input_shape = input_details[0]['shape']\n",
    "inputs, outputs = [], []\n",
    "for _ in range(100):\n",
    "  input_data = np.array(np.random.random_sample(input_shape), dtype=np.float32)\n",
    "  interpreter.set_tensor(input_details[0]['index'], input_data)\n",
    "\n",
    "  interpreter.invoke()\n",
    "  tflite_results = interpreter.get_tensor(output_details[0]['index'])\n",
    "\n",
    "  # Test the TensorFlow model on random input data.\n",
    "  tf_results = model(tf.constant(input_data))\n",
    "  output_data = np.array(tf_results)\n",
    "  \n",
    "  inputs.append(input_data[0][0])\n",
    "  outputs.append(output_data[0][0])"
   ]
  },
  {
   "cell_type": "markdown",
   "metadata": {
    "id": "t1gQGH1KWAgW"
   },
   "source": [
    "## Visualize the model"
   ]
  },
  {
   "cell_type": "code",
   "execution_count": 23,
   "metadata": {
    "id": "ccvQ1mEJVrqo"
   },
   "outputs": [
    {
     "data": {
      "image/png": "[encoded data removed]",
      "text/plain": [
       "<Figure size 432x288 with 1 Axes>"
      ]
     },
     "metadata": {
      "needs_background": "light"
     },
     "output_type": "display_data"
    }
   ],
   "source": [
    "plt.plot(inputs, outputs, 'r')\n",
    "plt.show()"
   ]
  }
 ],
 "metadata": {
  "accelerator": "GPU",
  "colab": {
   "collapsed_sections": [],
   "name": "tflite_c01_linear_regression.ipynb",
   "provenance": [],
   "toc_visible": true
  },
  "kernelspec": {
   "display_name": "Python 3 (ipykernel)",
   "language": "python",
   "name": "python3"
  },
  "language_info": {
   "codemirror_mode": {
    "name": "ipython",
    "version": 3
   },
   "file_extension": ".py",
   "mimetype": "text/x-python",
   "name": "python",
   "nbconvert_exporter": "python",
   "pygments_lexer": "ipython3",
   "version": "3.9.2"
  }
 },
 "nbformat": 4,
 "nbformat_minor": 1
}
