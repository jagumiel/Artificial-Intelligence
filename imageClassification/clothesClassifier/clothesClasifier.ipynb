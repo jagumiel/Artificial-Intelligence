{
 "cells": [
  {
   "cell_type": "markdown",
   "id": "special-amsterdam",
   "metadata": {},
   "source": [
    "# Clothes Classifier"
   ]
  },
  {
   "cell_type": "code",
   "execution_count": 1,
   "id": "polyphonic-dragon",
   "metadata": {},
   "outputs": [
    {
     "name": "stderr",
     "output_type": "stream",
     "text": [
      "2021-11-22 10:42:06.579416: W tensorflow/stream_executor/platform/default/dso_loader.cc:64] Could not load dynamic library 'libcudart.so.11.0'; dlerror: libcudart.so.11.0: cannot open shared object file: No such file or directory\n",
      "2021-11-22 10:42:06.579438: I tensorflow/stream_executor/cuda/cudart_stub.cc:29] Ignore above cudart dlerror if you do not have a GPU set up on your machine.\n"
     ]
    }
   ],
   "source": [
    "import matplotlib.pyplot as plt\n",
    "import tensorflow as tf\n",
    "import numpy as np\n",
    "\n",
    "import pathlib\n",
    "import glob\n",
    "import os\n",
    "import re\n",
    "\n",
    "from PIL import Image\n",
    "from pathlib import Path\n",
    "from datetime import datetime"
   ]
  },
  {
   "cell_type": "code",
   "execution_count": 2,
   "id": "retained-compromise",
   "metadata": {},
   "outputs": [],
   "source": [
    "# Load TFLite model and allocate tensors.\n",
    "interpreter = tf.lite.Interpreter(\"model_fmnist_edge.tflite\")\n",
    "interpreter.allocate_tensors()\n",
    "\n",
    "# Get input and output tensors.\n",
    "input_details = interpreter.get_input_details() #28x28x3\n",
    "output_details = interpreter.get_output_details()"
   ]
  },
  {
   "cell_type": "code",
   "execution_count": 3,
   "id": "ddee06f3",
   "metadata": {},
   "outputs": [],
   "source": [
    "def load_labels(path):\n",
    "    \"\"\"Loads the labels file. Supports files with or without index numbers.\"\"\"\n",
    "    with open(path, 'r', encoding='utf-8') as f:\n",
    "        lines = f.readlines()\n",
    "        labels = []\n",
    "        count=0\n",
    "        \n",
    "        #for row_number, content in enumerate(lines):\n",
    "        for line in lines:\n",
    "            labels.append(line)\n",
    "    return labels\n"
   ]
  },
  {
   "cell_type": "code",
   "execution_count": 4,
   "id": "46c3aa7e",
   "metadata": {},
   "outputs": [
    {
     "ename": "NameError",
     "evalue": "name 'myClothes' is not defined",
     "output_type": "error",
     "traceback": [
      "\u001b[0;31m---------------------------------------------------------------------------\u001b[0m",
      "\u001b[0;31mNameError\u001b[0m                                 Traceback (most recent call last)",
      "\u001b[0;32m/tmp/ipykernel_10657/2929412337.py\u001b[0m in \u001b[0;36m<module>\u001b[0;34m\u001b[0m\n\u001b[1;32m     16\u001b[0m \u001b[0;34m\u001b[0m\u001b[0m\n\u001b[1;32m     17\u001b[0m \u001b[0;34m\u001b[0m\u001b[0m\n\u001b[0;32m---> 18\u001b[0;31m \u001b[0mimg\u001b[0m \u001b[0;34m=\u001b[0m \u001b[0mImage\u001b[0m\u001b[0;34m.\u001b[0m\u001b[0mopen\u001b[0m\u001b[0;34m(\u001b[0m\u001b[0mmyClothes\u001b[0m\u001b[0;34m/\u001b[0m\u001b[0mtshirt0\u001b[0m\u001b[0;34m.\u001b[0m\u001b[0mjpg\u001b[0m\u001b[0;34m)\u001b[0m\u001b[0;34m.\u001b[0m\u001b[0mresize\u001b[0m\u001b[0;34m(\u001b[0m\u001b[0;34m(\u001b[0m\u001b[0mheight\u001b[0m\u001b[0;34m,\u001b[0m \u001b[0mwidth\u001b[0m\u001b[0;34m)\u001b[0m\u001b[0;34m)\u001b[0m\u001b[0;34m\u001b[0m\u001b[0;34m\u001b[0m\u001b[0m\n\u001b[0m\u001b[1;32m     19\u001b[0m \u001b[0;31m# add N dim\u001b[0m\u001b[0;34m\u001b[0m\u001b[0;34m\u001b[0m\u001b[0;34m\u001b[0m\u001b[0m\n\u001b[1;32m     20\u001b[0m \u001b[0minput_data\u001b[0m \u001b[0;34m=\u001b[0m \u001b[0mnp\u001b[0m\u001b[0;34m.\u001b[0m\u001b[0mexpand_dims\u001b[0m\u001b[0;34m(\u001b[0m\u001b[0mimg\u001b[0m\u001b[0;34m,\u001b[0m \u001b[0maxis\u001b[0m\u001b[0;34m=\u001b[0m\u001b[0;36m0\u001b[0m\u001b[0;34m)\u001b[0m\u001b[0;34m\u001b[0m\u001b[0;34m\u001b[0m\u001b[0m\n",
      "\u001b[0;31mNameError\u001b[0m: name 'myClothes' is not defined"
     ]
    }
   ],
   "source": [
    "# Load the labels\n",
    "labels = load_labels('labels.txt')\n",
    "\n",
    "###### Prepare the image or the imageset.\n",
    "folder = \"myClothes\"\n",
    "files = glob.glob(folder+'/*.jpg')\n",
    "\n",
    "#NxHxWxC, H:1, W:2\n",
    "height=input_details[0]['shape'][1]\n",
    "width=input_details[0]['shape'][2]\n",
    "\n",
    "#Results:\n",
    "hit=0\n",
    "miss=0\n",
    "accumTime=0\n",
    "\n",
    "\n",
    "img = Image.open('myClothes/tshirt0.jpg').resize((height, width))\n",
    "# add N dim\n",
    "input_data = np.expand_dims(img, axis=0)\n",
    "#Input data must be float\n",
    "input_data = (2.0 / 255.0) * np.float32(input_data) - 1.0\n",
    "interpreter.set_tensor(input_details[0]['index'], input_data)\n",
    "\n",
    "\n",
    "interpreter.set_tensor(input_details[0]['index'], input_data)\n",
    "startTime = datetime.now()\n",
    "interpreter.invoke()\n",
    "delta = datetime.now() - startTime\n",
    "accumTime=accumTime+(delta.total_seconds() * 1000)\n",
    "\n",
    "output_data = interpreter.get_tensor(output_details[0]['index'])\n",
    "print(output_data)\n"
   ]
  }
 ],
 "metadata": {
  "kernelspec": {
   "display_name": "Python 3 (ipykernel)",
   "language": "python",
   "name": "python3"
  },
  "language_info": {
   "codemirror_mode": {
    "name": "ipython",
    "version": 3
   },
   "file_extension": ".py",
   "mimetype": "text/x-python",
   "name": "python",
   "nbconvert_exporter": "python",
   "pygments_lexer": "ipython3",
   "version": "3.8.10"
  }
 },
 "nbformat": 4,
 "nbformat_minor": 5
}
